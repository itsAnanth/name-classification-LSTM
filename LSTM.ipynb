{
 "cells": [
  {
   "cell_type": "code",
   "execution_count": 1,
   "metadata": {},
   "outputs": [],
   "source": [
    "import torch\n",
    "from data import Data\n",
    "from train import train\n",
    "from LSTM import LSTM\n",
    "import matplotlib.pyplot as plt\n"
   ]
  },
  {
   "cell_type": "code",
   "execution_count": null,
   "metadata": {},
   "outputs": [
    {
     "name": "stdout",
     "output_type": "stream",
     "text": [
      "Arabic\n",
      "Chinese\n",
      "Czech\n",
      "Dutch\n",
      "English\n",
      "French\n",
      "German\n",
      "Greek\n",
      "Irish\n",
      "Italian\n",
      "Japanese\n",
      "Korean\n",
      "Polish\n",
      "Portuguese\n",
      "Russian\n",
      "Scottish\n",
      "Spanish\n",
      "Vietnamese\n"
     ]
    }
   ],
   "source": [
    "\n",
    "data = Data()\n",
    "model = LSTM(len(data.vocab), 128, len(data.categories))\n",
    "criterion = torch.nn.NLLLoss()\n",
    "optimizer = torch.optim.Adam(model.parameters(), lr=0.005)\n",
    "losses = []\n",
    "\n"
   ]
  },
  {
   "cell_type": "code",
   "execution_count": 3,
   "metadata": {},
   "outputs": [
    {
     "data": {
      "text/plain": [
       "',:ABCDEFGHIJKLMNOPQRSTUVWXYZabcdefghijklmnopqrstuvwxyz'"
      ]
     },
     "execution_count": 3,
     "metadata": {},
     "output_type": "execute_result"
    }
   ],
   "source": [
    "\"\".join(data.vocab)"
   ]
  },
  {
   "cell_type": "code",
   "execution_count": 4,
   "metadata": {},
   "outputs": [
    {
     "name": "stdout",
     "output_type": "stream",
     "text": [
      "Iterations: 500 | loss: 2.8925295691490174\n",
      "Iterations: 1000 | loss: 2.8756952147483825\n",
      "Iterations: 1500 | loss: 2.88132542514801\n",
      "Iterations: 2000 | loss: 2.8522292606830595\n",
      "Iterations: 2500 | loss: 2.873720687866211\n",
      "Iterations: 3000 | loss: 2.8809553771018983\n",
      "Iterations: 3500 | loss: 2.825789343357086\n",
      "Iterations: 4000 | loss: 2.832734717845917\n",
      "Iterations: 4500 | loss: 2.839768885374069\n",
      "Iterations: 5000 | loss: 2.7451614274978637\n",
      "Iterations: 5500 | loss: 2.773200291633606\n",
      "Iterations: 6000 | loss: 2.7572862021923066\n",
      "Iterations: 6500 | loss: 2.7306957201957704\n",
      "Iterations: 7000 | loss: 2.7315063831806183\n",
      "Iterations: 7500 | loss: 2.724660339832306\n",
      "Iterations: 8000 | loss: 2.6464651486873625\n",
      "Iterations: 8500 | loss: 2.6376921520233156\n",
      "Iterations: 9000 | loss: 2.6890554387569425\n",
      "Iterations: 9500 | loss: 2.6400579566955567\n",
      "Iterations: 10000 | loss: 2.626562052965164\n",
      "Iterations: 10500 | loss: 2.655106727838516\n",
      "Iterations: 11000 | loss: 2.6047002918720246\n",
      "Iterations: 11500 | loss: 2.638072459459305\n",
      "Iterations: 12000 | loss: 2.6143078172206877\n",
      "Iterations: 12500 | loss: 2.580989688158035\n",
      "Iterations: 13000 | loss: 2.602046839952469\n",
      "Iterations: 13500 | loss: 2.5847549238204954\n",
      "Iterations: 14000 | loss: 2.5292743489742278\n",
      "Iterations: 14500 | loss: 2.54979602432251\n",
      "Iterations: 15000 | loss: 2.5303797817230222\n",
      "Iterations: 15500 | loss: 2.486752154111862\n",
      "Iterations: 16000 | loss: 2.518998642206192\n",
      "Iterations: 16500 | loss: 2.5109698865413668\n",
      "Iterations: 17000 | loss: 2.506986919641495\n",
      "Iterations: 17500 | loss: 2.481662799835205\n",
      "Iterations: 18000 | loss: 2.4779836015701293\n",
      "Iterations: 18500 | loss: 2.4566936204433443\n",
      "Iterations: 19000 | loss: 2.4569320659637452\n",
      "Iterations: 19500 | loss: 2.4816343750953673\n",
      "Iterations: 20000 | loss: 2.504030693054199\n",
      "Iterations: 20500 | loss: 2.462246165037155\n",
      "Iterations: 21000 | loss: 2.469253264427185\n",
      "Iterations: 21500 | loss: 2.4449035658836364\n",
      "Iterations: 22000 | loss: 2.4552578117847443\n",
      "Iterations: 22500 | loss: 2.432552351474762\n",
      "Iterations: 23000 | loss: 2.442090932607651\n",
      "Iterations: 23500 | loss: 2.450210686206818\n",
      "Iterations: 24000 | loss: 2.424788911819458\n",
      "Iterations: 24500 | loss: 2.442137462377548\n",
      "Iterations: 25000 | loss: 2.471377883672714\n",
      "Iterations: 25500 | loss: 2.4678641130924226\n",
      "Iterations: 26000 | loss: 2.4880819284915923\n",
      "Iterations: 26500 | loss: 2.4254114060401917\n",
      "Iterations: 27000 | loss: 2.4404153537750246\n",
      "Iterations: 27500 | loss: 2.42287370800972\n",
      "Iterations: 28000 | loss: 2.4203723683357237\n",
      "Iterations: 28500 | loss: 2.451724192380905\n",
      "Iterations: 29000 | loss: 2.40130771446228\n",
      "Iterations: 29500 | loss: 2.3962333397865296\n",
      "Iterations: 30000 | loss: 2.415196644306183\n",
      "Iterations: 30500 | loss: 2.4074383459091186\n",
      "Iterations: 31000 | loss: 2.4350315856933595\n",
      "Iterations: 31500 | loss: 2.4152092304229735\n",
      "Iterations: 32000 | loss: 2.4114657311439514\n",
      "Iterations: 32500 | loss: 2.4235805151462553\n",
      "Iterations: 33000 | loss: 2.392585417032242\n",
      "Iterations: 33500 | loss: 2.39661381149292\n",
      "Iterations: 34000 | loss: 2.3910652000904085\n",
      "Iterations: 34500 | loss: 2.3816926243305208\n",
      "Iterations: 35000 | loss: 2.3599607470035555\n",
      "Iterations: 35500 | loss: 2.389690883874893\n",
      "Iterations: 36000 | loss: 2.4053428246974944\n",
      "Iterations: 36500 | loss: 2.3988526356220246\n",
      "Iterations: 37000 | loss: 2.3879530768394472\n",
      "Iterations: 37500 | loss: 2.37364662194252\n",
      "Iterations: 38000 | loss: 2.421745478630066\n",
      "Iterations: 38500 | loss: 2.3687494060993193\n",
      "Iterations: 39000 | loss: 2.356650185108185\n",
      "Iterations: 39500 | loss: 2.3554352061748505\n",
      "Iterations: 40000 | loss: 2.402339690208435\n",
      "Iterations: 40500 | loss: 2.386280961036682\n",
      "Iterations: 41000 | loss: 2.41029628944397\n",
      "Iterations: 41500 | loss: 2.3929354395866396\n",
      "Iterations: 42000 | loss: 2.4246302404403686\n",
      "Iterations: 42500 | loss: 2.381267646074295\n",
      "Iterations: 43000 | loss: 2.3389484152793885\n",
      "Iterations: 43500 | loss: 2.3449586143493653\n",
      "Iterations: 44000 | loss: 2.366897628068924\n"
     ]
    },
    {
     "ename": "KeyboardInterrupt",
     "evalue": "",
     "output_type": "error",
     "traceback": [
      "\u001b[1;31m---------------------------------------------------------------------------\u001b[0m",
      "\u001b[1;31mKeyboardInterrupt\u001b[0m                         Traceback (most recent call last)",
      "Cell \u001b[1;32mIn[4], line 1\u001b[0m\n\u001b[1;32m----> 1\u001b[0m \u001b[43mtrain\u001b[49m\u001b[43m(\u001b[49m\n\u001b[0;32m      2\u001b[0m \u001b[43m    \u001b[49m\u001b[43mmodel\u001b[49m\u001b[43m,\u001b[49m\n\u001b[0;32m      3\u001b[0m \u001b[43m    \u001b[49m\u001b[43mcriterion\u001b[49m\u001b[43m,\u001b[49m\n\u001b[0;32m      4\u001b[0m \u001b[43m    \u001b[49m\u001b[43moptimizer\u001b[49m\u001b[43m,\u001b[49m\n\u001b[0;32m      5\u001b[0m \u001b[43m    \u001b[49m\u001b[43mepochs\u001b[49m\u001b[38;5;241;43m=\u001b[39;49m\u001b[38;5;241;43m100000\u001b[39;49m\u001b[43m,\u001b[49m\n\u001b[0;32m      6\u001b[0m \u001b[43m    \u001b[49m\u001b[43mdata\u001b[49m\u001b[38;5;241;43m=\u001b[39;49m\u001b[43mdata\u001b[49m\u001b[43m,\u001b[49m\n\u001b[0;32m      7\u001b[0m \u001b[43m    \u001b[49m\u001b[43mlosses\u001b[49m\u001b[38;5;241;43m=\u001b[39;49m\u001b[43mlosses\u001b[49m\n\u001b[0;32m      8\u001b[0m \u001b[43m)\u001b[49m\n",
      "File \u001b[1;32md:\\code\\new-projects\\name-classification-LSTM\\train.py:16\u001b[0m, in \u001b[0;36mtrain\u001b[1;34m(model, criterion, optimizer, epochs, data, losses)\u001b[0m\n\u001b[0;32m     14\u001b[0m i \u001b[38;5;241m+\u001b[39m\u001b[38;5;241m=\u001b[39m \u001b[38;5;241m1\u001b[39m\n\u001b[0;32m     15\u001b[0m optimizer\u001b[38;5;241m.\u001b[39mzero_grad()\n\u001b[1;32m---> 16\u001b[0m word, category \u001b[38;5;241m=\u001b[39m \u001b[43mdata\u001b[49m\u001b[38;5;241;43m.\u001b[39;49m\u001b[43mrandom_sample\u001b[49m\u001b[43m(\u001b[49m\u001b[43m)\u001b[49m\n\u001b[0;32m     19\u001b[0m ht \u001b[38;5;241m=\u001b[39m model\u001b[38;5;241m.\u001b[39minit_hidden()\n\u001b[0;32m     20\u001b[0m ct \u001b[38;5;241m=\u001b[39m model\u001b[38;5;241m.\u001b[39minit_state()\n",
      "File \u001b[1;32md:\\code\\new-projects\\name-classification-LSTM\\data.py:97\u001b[0m, in \u001b[0;36mData.random_sample\u001b[1;34m(self)\u001b[0m\n\u001b[0;32m     94\u001b[0m random_category \u001b[38;5;241m=\u001b[39m np\u001b[38;5;241m.\u001b[39mrandom\u001b[38;5;241m.\u001b[39mchoice(\u001b[38;5;28mself\u001b[39m\u001b[38;5;241m.\u001b[39mcategories, replace\u001b[38;5;241m=\u001b[39m\u001b[38;5;28;01mTrue\u001b[39;00m)\n\u001b[0;32m     95\u001b[0m random_word \u001b[38;5;241m=\u001b[39m np\u001b[38;5;241m.\u001b[39mrandom\u001b[38;5;241m.\u001b[39mchoice(\u001b[38;5;28mself\u001b[39m\u001b[38;5;241m.\u001b[39mdata[random_category], replace\u001b[38;5;241m=\u001b[39m\u001b[38;5;28;01mTrue\u001b[39;00m)\n\u001b[1;32m---> 97\u001b[0m \u001b[38;5;28;01mreturn\u001b[39;00m \u001b[38;5;28;43mself\u001b[39;49m\u001b[38;5;241;43m.\u001b[39;49m\u001b[43mword2tensor\u001b[49m\u001b[43m(\u001b[49m\u001b[43mrandom_word\u001b[49m\u001b[43m)\u001b[49m, \u001b[38;5;28mself\u001b[39m\u001b[38;5;241m.\u001b[39mcategory2tensor(random_category)\n",
      "File \u001b[1;32md:\\code\\new-projects\\name-classification-LSTM\\data.py:108\u001b[0m, in \u001b[0;36mData.word2tensor\u001b[1;34m(self, word)\u001b[0m\n\u001b[0;32m    106\u001b[0m encodings \u001b[38;5;241m=\u001b[39m []\n\u001b[0;32m    107\u001b[0m \u001b[38;5;28;01mfor\u001b[39;00m char \u001b[38;5;129;01min\u001b[39;00m word:\n\u001b[1;32m--> 108\u001b[0m     encoding \u001b[38;5;241m=\u001b[39m \u001b[43mtorch\u001b[49m\u001b[38;5;241;43m.\u001b[39;49m\u001b[43mzeros\u001b[49m\u001b[43m(\u001b[49m\u001b[38;5;28;43mlen\u001b[39;49m\u001b[43m(\u001b[49m\u001b[38;5;28;43mself\u001b[39;49m\u001b[38;5;241;43m.\u001b[39;49m\u001b[43mvocab\u001b[49m\u001b[43m)\u001b[49m\u001b[43m)\u001b[49m\n\u001b[0;32m    109\u001b[0m     encoding[\u001b[38;5;28mself\u001b[39m\u001b[38;5;241m.\u001b[39mvocab\u001b[38;5;241m.\u001b[39mindex(char)] \u001b[38;5;241m=\u001b[39m \u001b[38;5;241m1\u001b[39m\n\u001b[0;32m    110\u001b[0m     encodings\u001b[38;5;241m.\u001b[39mappend(encoding)\n",
      "\u001b[1;31mKeyboardInterrupt\u001b[0m: "
     ]
    }
   ],
   "source": [
    "train(\n",
    "    model,\n",
    "    criterion,\n",
    "    optimizer,\n",
    "    epochs=100000,\n",
    "    data=data,\n",
    "    losses=losses\n",
    ")"
   ]
  },
  {
   "cell_type": "code",
   "execution_count": null,
   "metadata": {},
   "outputs": [],
   "source": [
    "def predict(model, input, data):\n",
    "    tensor = data.word2tensor(input)\n",
    "    hidden_state = model.init_hidden()\n",
    "\n",
    "    for ch in range(tensor.shape[0]):\n",
    "        output, hidden_state = model(tensor[ch], hidden_state)\n",
    "\n",
    "    category = data.tensor2category(torch.tensor([torch.argmax(output)], dtype=torch.long))\n",
    "    return category\n",
    "\n",
    "# predict(model, \"Luka Modric\\n\", data)\n"
   ]
  },
  {
   "cell_type": "code",
   "execution_count": null,
   "metadata": {},
   "outputs": [
    {
     "data": {
      "text/plain": [
       "[<matplotlib.lines.Line2D at 0x1aa77d47290>]"
      ]
     },
     "execution_count": 6,
     "metadata": {},
     "output_type": "execute_result"
    },
    {
     "data": {
      "image/png": "[encoded data removed]",
      "text/plain": [
       "<Figure size 640x480 with 1 Axes>"
      ]
     },
     "metadata": {},
     "output_type": "display_data"
    }
   ],
   "source": [
    "plt.plot(range(len(losses)), losses)"
   ]
  },
  {
   "cell_type": "code",
   "execution_count": null,
   "metadata": {},
   "outputs": [
    {
     "name": "stdout",
     "output_type": "stream",
     "text": [
      "Arabic\n"
     ]
    }
   ],
   "source": [
    "while True:\n",
    "    inp = input(\"> \")\n",
    "    if inp.lower() == \"quit\":\n",
    "        break\n",
    "\n",
    "    category = predict(model, f\"{inp}\\n\", data)\n",
    "    print(category)"
   ]
  }
 ],
 "metadata": {
  "kernelspec": {
   "display_name": "Python 3",
   "language": "python",
   "name": "python3"
  },
  "language_info": {
   "codemirror_mode": {
    "name": "ipython",
    "version": 3
   },
   "file_extension": ".py",
   "mimetype": "text/x-python",
   "name": "python",
   "nbconvert_exporter": "python",
   "pygments_lexer": "ipython3",
   "version": "3.11.1"
  }
 },
 "nbformat": 4,
 "nbformat_minor": 2
}
